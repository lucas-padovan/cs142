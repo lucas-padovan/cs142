{
 "cells": [
  {
   "cell_type": "code",
   "execution_count": 140,
   "id": "522b50d3",
   "metadata": {},
   "outputs": [],
   "source": [
    "import pandas as pd\n",
    "import networkx as nx\n",
    "import re\n",
    "import numpy as np"
   ]
  },
  {
   "cell_type": "code",
   "execution_count": 141,
   "id": "806ed15f",
   "metadata": {},
   "outputs": [],
   "source": [
    "reviews_file = open('amazon-meta.txt')\n",
    "line = reviews_file.readline()\n",
    "line = reviews_file.readline()\n",
    "line = reviews_file.readline()\n",
    "\n",
    "reviews_list = []\n",
    "\n",
    "customers = {}\n",
    "\n",
    "for i in range(500000):\n",
    "    \n",
    "    review = { }\n",
    "    id_line = reviews_file.readline()\n",
    "    \n",
    "    product_id = re.findall(r'\\d+', id_line)[0]\n",
    "        \n",
    "    review[\"id\"] =  product_id\n",
    "    \n",
    "    asin_line = reviews_file.readline()\n",
    "    asin = re.findall(r'\\d+', asin_line)[0]\n",
    "    \n",
    "    review[\"asin\"] = asin\n",
    "    \n",
    "    title_line = reviews_file.readline()\n",
    "    \n",
    "    title = title_line.replace(\"title: \", \"\")\n",
    "    title = title.replace(\"\\n\", \"\")\n",
    "    \n",
    "    review[\"title\"] = title\n",
    "        \n",
    "    line = reviews_file.readline()\n",
    "    \n",
    "    line = reviews_file.readline()\n",
    "    \n",
    "    review[\"salesrank\"] = line\n",
    "    \n",
    "    while(not len(re.findall(r'reviews: ', line))):\n",
    "        line = reviews_file.readline()\n",
    "        \n",
    "    review_line = reviews_file.readline()\n",
    "    customer_id = re.findall(r'\\b\\w{13,14}\\b', review_line)\n",
    "    \n",
    "    if(len(customer_id)):\n",
    "        customer_id = customer_id[0]\n",
    "        if \"customer\" not in review.keys():\n",
    "            review[\"customer\"] = []\n",
    "        review[\"customer\"].append(customer_id)\n",
    "        if customer_id not in customers.keys():\n",
    "            customers[customer_id] = []\n",
    "\n",
    "        customers[customer_id].append(product_id)\n",
    "    \n",
    "    while(review_line[0] != \"\\n\"):\n",
    "#         print(\"review line: {}\".format(review_line))\n",
    "        \n",
    "        review_line = reviews_file.readline()\n",
    "        \n",
    "        customer_id = re.findall(r'\\b\\w{13,14}\\b', review_line)\n",
    "        if not len(customer_id):\n",
    "            continue\n",
    "            \n",
    "        customer_id = customer_id[0]\n",
    "        \n",
    "        if \"customer\" not in review.keys():\n",
    "            review[\"customer\"] = []\n",
    "            \n",
    "        review[\"customer\"].append(customer_id)\n",
    "        \n",
    "        if customer_id not in customers.keys():\n",
    "            customers[customer_id] = []\n",
    "                \n",
    "        customers[customer_id].append(product_id)\n",
    "#         print(review_line)\n",
    "        \n",
    "    reviews_list.append(review)\n",
    "        \n",
    "reviews_file.close()\n",
    "    \n"
   ]
  },
  {
   "cell_type": "code",
   "execution_count": 142,
   "id": "e825b7b4",
   "metadata": {},
   "outputs": [
    {
     "name": "stdout",
     "output_type": "stream",
     "text": [
      "1463886\n"
     ]
    }
   ],
   "source": [
    "print(len(customers.items()))"
   ]
  },
  {
   "cell_type": "code",
   "execution_count": 148,
   "id": "7b6dd7ba",
   "metadata": {},
   "outputs": [],
   "source": [
    "good_customer = []\n",
    "\n",
    "for customer, products in customers.items():\n",
    "    if len(products) >= 400:\n",
    "        good_customer.append(customer)\n",
    "        "
   ]
  },
  {
   "cell_type": "code",
   "execution_count": 149,
   "id": "9a9e79c2",
   "metadata": {},
   "outputs": [
    {
     "name": "stdout",
     "output_type": "stream",
     "text": [
      "436\n",
      "A2VE83MZF98ITY\n",
      "969\n"
     ]
    }
   ],
   "source": [
    "print(len(good_customer))\n",
    "print(good_customer[0])\n",
    "print(len(customers[good_customer[0]]))"
   ]
  },
  {
   "cell_type": "code",
   "execution_count": 150,
   "id": "4bf2556c",
   "metadata": {},
   "outputs": [],
   "source": [
    "test_customer = good_customer[98]\n",
    "number_test_customer_purchases = len(customers[test_customer])\n",
    "original_customer = [ product for product in customers[test_customer] ]\n",
    "half = int(number_test_customer_purchases / 2)\n",
    "mod_customer = customers[test_customer][:half]\n",
    "future_pur = customers[test_customer][half+1:]\n",
    "customers[test_customer] = [product for product in mod_customer]"
   ]
  },
  {
   "cell_type": "code",
   "execution_count": 151,
   "id": "1c834eea",
   "metadata": {},
   "outputs": [
    {
     "name": "stdout",
     "output_type": "stream",
     "text": [
      "145616\n"
     ]
    }
   ],
   "source": [
    "G1 = nx.DiGraph()\n",
    "\n",
    "for i, customer in enumerate(good_customer):\n",
    "    for j in range(i+1, len(good_customer)):\n",
    "        customer2 = good_customer[j]\n",
    "        p1 = customers[customer]\n",
    "        p2 = customers[good_customer[j]]\n",
    "        \n",
    "        inters = len(np.intersect1d(p1,p2))\n",
    "        \n",
    "        if(inters):\n",
    "            G1.add_edge(customer, customer2, weight=inters)\n",
    "            G1.add_edge(customer2, customer, weight=inters)\n",
    "\n",
    "print(G1.number_of_edges())"
   ]
  },
  {
   "cell_type": "code",
   "execution_count": 152,
   "id": "85a46fe3",
   "metadata": {},
   "outputs": [
    {
     "name": "stdout",
     "output_type": "stream",
     "text": [
      "436\n"
     ]
    }
   ],
   "source": [
    "print(G1.number_of_nodes())"
   ]
  },
  {
   "cell_type": "code",
   "execution_count": 147,
   "id": "ba211eaa",
   "metadata": {},
   "outputs": [
    {
     "data": {
      "image/png": "[encoded data removed]",
      "text/plain": [
       "<Figure size 432x288 with 1 Axes>"
      ]
     },
     "metadata": {},
     "output_type": "display_data"
    }
   ],
   "source": [
    "options = {\"node_size\": 5, \"node_color\": \"r\", \"edge_color\": \"b\"}\n",
    "nx.draw(G1, **options)"
   ]
  },
  {
   "cell_type": "code",
   "execution_count": 134,
   "id": "d30f2aee",
   "metadata": {},
   "outputs": [
    {
     "name": "stdout",
     "output_type": "stream",
     "text": [
      "Future purchases: 944\n",
      "Good recommendations: 550\n",
      "Accuracy: 0.5826271186440678\n"
     ]
    }
   ],
   "source": [
    "common_neighbors = [n for n in G1.neighbors(test_customer)]\n",
    "match = \"\"\n",
    "rank = 0\n",
    "\n",
    "for neighbor in common_neighbors:\n",
    "    edge_weight = G1.get_edge_data(test_customer, neighbor)[\"weight\"]\n",
    "    if rank < edge_weight:\n",
    "        rank = edge_weight\n",
    "        match = neighbor\n",
    "        \n",
    "set_similar = customers[match]\n",
    "int_length = len(np.intersect1d(set_similar, future_pur))\n",
    "\n",
    "print(\"Future purchases: {}\".format(len(future_pur)))\n",
    "print(\"Good recommendations: {}\".format(int_length))\n",
    "print(\"Accuracy: {}\".format(int_length/len(future_pur)))"
   ]
  },
  {
   "cell_type": "code",
   "execution_count": 135,
   "id": "50ef4b1d",
   "metadata": {},
   "outputs": [
    {
     "name": "stdout",
     "output_type": "stream",
     "text": [
      "Future purchases: 944\n",
      "Good recommendations: 0\n",
      "Accuracy: 0.0\n"
     ]
    }
   ],
   "source": [
    "weighted_personalized_pagerank_cc = nx.pagerank(G1, alpha=0.85)\n",
    "# weighted_personalized_pagerank = nx.pagerank(G1, alpha=0.85, personalization={test_customer: 1})\n",
    "\n",
    "match_cc = \"\"\n",
    "rank_cc = 0\n",
    "\n",
    "for similar_customer_cc, val_cc in weighted_personalized_pagerank_cc.items():\n",
    "    if val_cc > rank_cc:\n",
    "        rank_cc = val\n",
    "        match_cc = similar_customer_cc\n",
    "        \n",
    "set_similar_cc = customers[match_cc]\n",
    "\n",
    "int_similar_cc = np.intersect1d(set_similar_cc, future_pur)\n",
    "\n",
    "int_len_cc = len(int_similar_cc)\n",
    "accuracy_cc = int_len_cc / len(future_pur)\n",
    "\n",
    "print(\"Future purchases: {}\".format(len(future_pur)))\n",
    "print(\"Good recommendations: {}\".format(int_len_cc))\n",
    "print(\"Accuracy: {}\".format(accuracy_cc))"
   ]
  },
  {
   "cell_type": "code",
   "execution_count": 136,
   "id": "1cb5ab1a",
   "metadata": {},
   "outputs": [],
   "source": [
    "G2 = nx.DiGraph()\n",
    "for i, customer in enumerate(good_customer):\n",
    "    products = customers[customer]\n",
    "    \n",
    "    for product in products:\n",
    "        G2.add_edge(customer, product)\n",
    "        G2.add_edge(product, customer)"
   ]
  },
  {
   "cell_type": "code",
   "execution_count": null,
   "id": "7286c76f",
   "metadata": {},
   "outputs": [],
   "source": [
    "options = {\"node_size\": 5, \"node_color\": \"r\", \"edge_color\": \"b\"}\n",
    "nx.draw(G2, **options)"
   ]
  },
  {
   "cell_type": "code",
   "execution_count": 138,
   "id": "bb45ec48",
   "metadata": {},
   "outputs": [
    {
     "name": "stdout",
     "output_type": "stream",
     "text": [
      "Future purchases: 944\n",
      "Good recommendations: 3\n",
      "Accuracy: 0.0031779661016949155\n"
     ]
    }
   ],
   "source": [
    "weighted_prank2 = nx.pagerank(G2, alpha=0.85)\n",
    "# weighted_prank2 = nx.pagerank(G2, alpha=0.85, personalization={test_customer: 1})\n",
    "        \n",
    "lenghts = [13, 14]\n",
    "        \n",
    "best_products = [ [node, value] for node, value in weighted_prank2.items() if len(node) not in lenghts ]\n",
    "\n",
    "best_match = \"\"\n",
    "best_rank = 0\n",
    "\n",
    "best_products = sorted(best_products, key=lambda p: p[1])\n",
    "\n",
    "set_similar_cp = best_products[:len(future_pur)]\n",
    "\n",
    "set_similar_cp = [ val[0] for val in set_similar_cp ]\n",
    "\n",
    "int_similar_cp = np.intersect1d(set_similar_cp, future_pur)\n",
    "\n",
    "int_len_cp = len(int_similar_cp)\n",
    "accuracy = int_len_cp / len(future_pur)\n",
    "\n",
    "print(\"Future purchases: {}\".format(len(future_pur)))\n",
    "print(\"Good recommendations: {}\".format(int_len_cp))\n",
    "print(\"Accuracy: {}\".format(int_len_cp/len(future_pur)))"
   ]
  },
  {
   "cell_type": "code",
   "execution_count": null,
   "id": "5faca807",
   "metadata": {},
   "outputs": [],
   "source": []
  }
 ],
 "metadata": {
  "kernelspec": {
   "display_name": "Python 3 (ipykernel)",
   "language": "python",
   "name": "python3"
  },
  "language_info": {
   "codemirror_mode": {
    "name": "ipython",
    "version": 3
   },
   "file_extension": ".py",
   "mimetype": "text/x-python",
   "name": "python",
   "nbconvert_exporter": "python",
   "pygments_lexer": "ipython3",
   "version": "3.9.12"
  }
 },
 "nbformat": 4,
 "nbformat_minor": 5
}
